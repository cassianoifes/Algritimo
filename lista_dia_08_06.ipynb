{
  "cells": [
    {
      "cell_type": "markdown",
      "metadata": {
        "id": "view-in-github",
        "colab_type": "text"
      },
      "source": [
        "<a href=\"https://colab.research.google.com/github/cassianoifes/Algritimo/blob/main/lista_dia_08_06.ipynb\" target=\"_parent\"><img src=\"https://colab.research.google.com/assets/colab-badge.svg\" alt=\"Open In Colab\"/></a>"
      ]
    },
    {
      "cell_type": "code",
      "execution_count": 1,
      "metadata": {
        "colab": {
          "base_uri": "https://localhost:8080/",
          "height": 111
        },
        "id": "_RPHv1bTKPy2",
        "outputId": "a29d257a-3320-4681-f5fa-acdd9a384b83"
      },
      "outputs": [
        {
          "output_type": "error",
          "ename": "IndentationError",
          "evalue": "unexpected indent (<ipython-input-1-da3a9c92072d>, line 11)",
          "traceback": [
            "\u001b[0;36m  File \u001b[0;32m\"<ipython-input-1-da3a9c92072d>\"\u001b[0;36m, line \u001b[0;32m11\u001b[0m\n\u001b[0;31m    numeros_unicos.append(num)\u001b[0m\n\u001b[0m    ^\u001b[0m\n\u001b[0;31mIndentationError\u001b[0m\u001b[0;31m:\u001b[0m unexpected indent\n"
          ]
        }
      ],
      "source": [
        "\n",
        "#1. Crie uma lista com 15 números inteiros digitados pelo usuário. Em seguida, remova todos os números repetidos, mantendo a ordem original.\n",
        "numeros = []\n",
        "for i in range(15):\n",
        "    num = int(input(f\"digite o {i+1}° numero inteiro: \"))\n",
        "    numeros.append(num)\n",
        "numeros_unicos = []\n",
        "for num in numeros:\n",
        "    if num not in numeros_unicos:\n",
        "        numeros_unicos.append(num)\n",
        "print(\"lista sem numerosrepetidos:\", numeros_unicos)\n",
        "        numeros_unicos.append(num)\n",
        "print(\"lista sem numerosrepetidos:\", numeros_unicos)\n",
        "\n",
        "\n",
        "\n",
        "\n",
        "\n",
        "\n",
        "\n",
        "\n",
        "\n",
        "\n",
        "\n",
        "\n",
        "\n",
        "\n",
        "\n"
      ]
    },
    {
      "cell_type": "code",
      "execution_count": null,
      "metadata": {
        "id": "WoIvjOIjgqBV"
      },
      "outputs": [],
      "source": []
    },
    {
      "cell_type": "code",
      "execution_count": null,
      "metadata": {
        "id": "tF9zz6CkaCTx"
      },
      "outputs": [],
      "source": []
    },
    {
      "cell_type": "code",
      "execution_count": null,
      "metadata": {
        "id": "DJSvPETxcQdd"
      },
      "outputs": [],
      "source": []
    },
    {
      "cell_type": "code",
      "execution_count": null,
      "metadata": {
        "colab": {
          "base_uri": "https://localhost:8080/"
        },
        "id": "66ppZEKPQndm",
        "outputId": "3646bf66-f962-4b9b-fd08-f716fcb12880"
      },
      "outputs": [
        {
          "name": "stdout",
          "output_type": "stream",
          "text": [
            "digite o nome da 1âCassiano\n",
            "digite a idade Cassiano: 55\n",
            "digite o nome da 2âLeonardo\n",
            "digite a idade Leonardo: 16\n",
            "digite o nome da 3âLeticia\n",
            "digite a idade Leticia: 28\n",
            "digite o nome da 4âIngrid\n",
            "digite a idade Ingrid: 49\n",
            "digite o nome da 5âKern\n",
            "digite a idade Kern: 48\n",
            "digite o nome da 6âCamilo\n",
            "digite a idade Camilo: 48\n",
            "digite o nome da 7âDarliane\n",
            "digite a idade Darliane: 60\n",
            "digite o nome da 8âDarlimar\n",
            "digite a idade Darlimar: 59\n",
            "digite o nome da 9âDelama\n",
            "digite a idade Delama: 58\n",
            "digite o nome da 10âDalila\n",
            "digite a idade Dalila: 80\n",
            "a pessoa mais velha éDalila com 80 anos\n"
          ]
        }
      ],
      "source": [
        "#2. Escreva um programa que leia 10 nomes e 10 idades. Armazene os nomes em uma lista e as idades em outra. Em seguida, exiba o nome da pessoa mais velha.\n",
        "nomes = []\n",
        "idades = []\n",
        "for i in range(10):\n",
        "    nome = input(f\"digite o nome da {i+1}â\")\n",
        "    idade = int(input(f\"digite a idade {nome}: \"))\n",
        "    nomes.append(nome)\n",
        "    idades.append(idade)\n",
        "indice_mais_velho = idades.index(max(idades))\n",
        "print(f\"a pessoa mais velha é{nomes[indice_mais_velho]} com {idades[indice_mais_velho]} anos\")"
      ]
    },
    {
      "cell_type": "code",
      "execution_count": null,
      "metadata": {
        "colab": {
          "base_uri": "https://localhost:8080/"
        },
        "id": "HYCSaiWJT07b",
        "outputId": "3659c1fa-2d1c-422c-e105-3ad316f140ca"
      },
      "outputs": [
        {
          "name": "stdout",
          "output_type": "stream",
          "text": [
            "Digite o 1° numero inteiro: 5\n",
            "Digite o 2° numero inteiro: 9\n",
            "Digite o 3° numero inteiro: 2\n",
            "Digite o 4° numero inteiro: 1\n",
            "Digite o 5° numero inteiro: 3\n",
            "Digite o 6° numero inteiro: 4\n",
            "Digite o 7° numero inteiro: 6\n",
            "Digite o 8° numero inteiro: 7\n",
            "Digite o 9° numero inteiro: 12\n",
            "Digite o 10° numero inteiro: 23\n",
            "lista resultante: [15, 27, 1.0, 3, 9, 2.0, 3.0, 21, 6.0, 69]\n"
          ]
        }
      ],
      "source": [
        "#3. Faça um programa que leia uma lista de 10 números e divida todos os valores ímpares por 3 e os pares por 2, substituindo os valores originais.\n",
        "numeros = []\n",
        "for i in range(10):\n",
        "    num = int(input(f\"Digite o {i+1}° numero inteiro: \"))\n",
        "    numeros.append(num)\n",
        "    if num % 2 == 0:\n",
        "        numeros[i] = num / 2\n",
        "    else:\n",
        "        numeros[i] = num * 3\n",
        "print(\"lista resultante:\", numeros)\n"
      ]
    },
    {
      "cell_type": "code",
      "execution_count": null,
      "metadata": {
        "colab": {
          "base_uri": "https://localhost:8080/"
        },
        "id": "yh-O4gz5VrIL",
        "outputId": "572da00f-279d-43e2-89cf-56e5e8494c01"
      },
      "outputs": [
        {
          "name": "stdout",
          "output_type": "stream",
          "text": [
            "Digite uma frase: abelha\n",
            "Palavras que começam com vogal: ['abelha']\n"
          ]
        }
      ],
      "source": [
        "#4. Solicite ao usuário uma frase. Armazene em uma lista cada palavra que começa com uma vogal. Exiba a lista resultante.\n",
        "frase = input(\"Digite uma frase: \")\n",
        "vogais = \"aeiouAEIOU\"\n",
        "palavras = frase.split()\n",
        "palavras_com_vogal = [palavra for palavra in palavras if palavra[0] in vogais]\n",
        "print(\"Palavras que começam com vogal:\", palavras_com_vogal)\n",
        "\n"
      ]
    },
    {
      "cell_type": "markdown",
      "metadata": {
        "id": "aGUQhnDpResy"
      },
      "source": [
        "a"
      ]
    },
    {
      "cell_type": "code",
      "execution_count": null,
      "metadata": {
        "colab": {
          "base_uri": "https://localhost:8080/"
        },
        "id": "OpdwJKofcUC8",
        "outputId": "ff20d1ca-688d-4a0c-a9eb-3d6864eee05d"
      },
      "outputs": [
        {
          "name": "stdout",
          "output_type": "stream",
          "text": [
            "Digite o 1° numero inteiro: 1\n",
            "Numeros primos na lista: []\n",
            "Digite o 2° numero inteiro: 2\n",
            "Numeros primos na lista: [2]\n",
            "Digite o 3° numero inteiro: 3\n",
            "Numeros primos na lista: [2, 3]\n",
            "Digite o 4° numero inteiro: 4\n",
            "Numeros primos na lista: [2, 3]\n",
            "Digite o 5° numero inteiro: 5\n",
            "Numeros primos na lista: [2, 3, 5]\n",
            "Digite o 6° numero inteiro: 6\n",
            "Numeros primos na lista: [2, 3, 5]\n",
            "Digite o 7° numero inteiro: 7\n",
            "Numeros primos na lista: [2, 3, 5, 7]\n",
            "Digite o 8° numero inteiro: 8\n",
            "Numeros primos na lista: [2, 3, 5, 7]\n",
            "Digite o 9° numero inteiro: 9\n",
            "Numeros primos na lista: [2, 3, 5, 7]\n",
            "Digite o 10° numero inteiro: 10\n",
            "Numeros primos na lista: [2, 3, 5, 7]\n"
          ]
        }
      ],
      "source": [
        "#5. Leia 10 números inteiros e armazene-os em uma lista. Em seguida, crie uma segunda lista apenas com os números primos da primeira.\n",
        "def eh_primo(n):\n",
        "    if n < 2:\n",
        "        return False\n",
        "    for i in range(2, int(n ** 0.5) + 1):\n",
        "        if n % i == 0:\n",
        "           return False\n",
        "    return True\n",
        "numeros = []\n",
        "for i in range(10):\n",
        "    num = int(input(f\"Digite o {i+1}° numero inteiro: \"))\n",
        "    numeros.append(num)\n",
        "    primos = [num for num in numeros if eh_primo(num)]\n",
        "    print(\"Numeros primos na lista:\", primos)\n"
      ]
    },
    {
      "cell_type": "code",
      "execution_count": null,
      "metadata": {
        "colab": {
          "base_uri": "https://localhost:8080/"
        },
        "id": "PJYUWLizfmRO",
        "outputId": "f34167ed-1b98-40ee-f6e5-6def44468d6f"
      },
      "outputs": [
        {
          "name": "stdout",
          "output_type": "stream",
          "text": [
            "Digite o 1° elemento: ato\n",
            "Digite o 2° elemento: ava\n",
            "Digite o 3° elemento: reinire\n",
            "Digite o 4° elemento: ada\n",
            "Digite o 5° elemento: lone\n",
            "Digite o 6° elemento: cavalo\n",
            "Digite o 7° elemento: iris\n",
            "Digite o 8° elemento: aoplo\n",
            "A lista não é palindroma.\n"
          ]
        }
      ],
      "source": [
        "#6. Escreva um programa que leia uma lista de 8 elementos e verifique se ela é palíndroma (lê-se igual de trás para frente).\n",
        "lista = []\n",
        "for i in range(8):\n",
        "    elemento = input(f\"Digite o {i+1}° elemento: \")\n",
        "    lista.append(elemento)\n",
        "if lista == lista[::-1]:\n",
        "    print(\"A lita é palindroma.\")\n",
        "else:\n",
        "    print(\"A lista não é palindroma.\")\n",
        "\n"
      ]
    },
    {
      "cell_type": "code",
      "execution_count": null,
      "metadata": {
        "colab": {
          "base_uri": "https://localhost:8080/"
        },
        "id": "1zjBdnlpmkBG",
        "outputId": "76ca07af-e64c-4f44-9b50-4beca83d5e3d"
      },
      "outputs": [
        {
          "name": "stdout",
          "output_type": "stream",
          "text": [
            "Lista 1: [69, 83, 85, 74, 96, 79, 20, 75, 66, 51]\n",
            "Lista 2: [67, 92, 37, 74, 84, 2, 49, 70, 33, 48]\n",
            "Insercao: [74]\n"
          ]
        }
      ],
      "source": [
        "#7. Crie duas listas com 10 números inteiros aleatórios entre 1 e 100. Gere uma terceira lista contendo apenas os elementos que estão presentes em ambas (interseção).\n",
        "import random\n",
        "lista1 = random.sample(range(1, 101), 10)\n",
        "lista2 = random.sample(range(1, 101), 10)\n",
        "intersecao = [num for num in lista1 if num in lista2]\n",
        "print(\"Lista 1:\", lista1)\n",
        "print(\"Lista 2:\", lista2)\n",
        "print(\"Insercao:\", intersecao)"
      ]
    },
    {
      "cell_type": "code",
      "execution_count": null,
      "metadata": {
        "colab": {
          "base_uri": "https://localhost:8080/"
        },
        "id": "_8yD7kv5oZPu",
        "outputId": "20aaf78e-6233-4021-dacb-4ff37d57597b"
      },
      "outputs": [
        {
          "name": "stdout",
          "output_type": "stream",
          "text": [
            "Numeros sorteados: [1, 16, 47, 51, 56, 59]\n"
          ]
        }
      ],
      "source": [
        "#8. Faça um programa que simule o sorteio de 6 números da Mega-Sena (entre 1 e 60) sem repetição. Armazene em uma lista e exiba.\n",
        "import random\n",
        "sorteio = sorted(random.sample(range(1, 60), 6))\n",
        "print(\"Numeros sorteados:\", sorteio)"
      ]
    },
    {
      "cell_type": "code",
      "execution_count": null,
      "metadata": {
        "colab": {
          "base_uri": "https://localhost:8080/"
        },
        "id": "9Nw1VHfuo_2-",
        "outputId": "371d6762-94de-475d-bc84-847e0f8fed76"
      },
      "outputs": [
        {
          "name": "stdout",
          "output_type": "stream",
          "text": [
            "Digite o 1° numero: 1\n",
            "Digite o 2° numero: 2\n",
            "Digite o 3° numero: 3\n",
            "Digite o 4° numero: 4\n",
            "Digite o 5° numero: 5\n",
            "Digite o 6° numero: 6\n",
            "Digite o 7° numero: 7\n",
            "Digite o 8° numero: 8\n",
            "Digite o 9° numero: 9\n",
            "Digite o 10° numero: 10\n",
            "Lista original: [1, 3, 6, 10, 15, 21, 28, 36, 45, 55]\n"
          ]
        }
      ],
      "source": [
        "#9. Solicite ao usuário uma lista de 10 números. Crie uma nova lista onde cada elemento é o somatório de todos os elementos anteriores da lista original.\n",
        "numeros = []\n",
        "for i in range(10):\n",
        "    num = int(input(f\"Digite o {i+1}° numero: \"))\n",
        "    numeros.append(num)\n",
        "soma_acumulada = []\n",
        "total = 0\n",
        "for num in numeros:\n",
        "    total += num\n",
        "    soma_acumulada.append(total)\n",
        "print(\"Lista original:\", soma_acumulada)\n",
        "\n"
      ]
    },
    {
      "cell_type": "code",
      "execution_count": null,
      "metadata": {
        "colab": {
          "base_uri": "https://localhost:8080/"
        },
        "id": "2emBjqAGqXom",
        "outputId": "8fab8730-75eb-482d-cc69-309579425234"
      },
      "outputs": [
        {
          "name": "stdout",
          "output_type": "stream",
          "text": [
            "Lista original: ['Cassiano', 'Dalila', 'Darliane', 'Darlimar', 'Delama', 'Camilo', 'Cassianinho']\n",
            "Lista com até 10 caracteres: ['Cassiano', 'Dalila', 'Darliane', 'Darlimar', 'Delama', 'Camilo']\n"
          ]
        }
      ],
      "source": [
        "#10. Implemente uma lista de nomes e remova todos que tenham mais de 10 caracteres.\n",
        "nomes = [\"Cassiano\", \"Dalila\", \"Darliane\", \"Darlimar\", \"Delama\", \"Camilo\", \"Cassianinho\"]\n",
        "nomes_filtrados = [nome for nome in nomes if len(nome) <= 10]\n",
        "print(\"Lista original:\", nomes)\n",
        "print(\"Lista com até 10 caracteres:\", nomes_filtrados)"
      ]
    },
    {
      "cell_type": "code",
      "execution_count": null,
      "metadata": {
        "colab": {
          "base_uri": "https://localhost:8080/"
        },
        "id": "qbaj0TWSroJR",
        "outputId": "5ea4fffe-0c49-4a8f-ad1a-87e58099ff88"
      },
      "outputs": [
        {
          "name": "stdout",
          "output_type": "stream",
          "text": [
            "Digite os valores da matriz 4x4:\n",
            "Elemento [0][0]: 1\n",
            "Elemento [0][1]: 2\n",
            "Elemento [0][2]: 3\n",
            "Elemento [0][3]: 4\n",
            "Elemento [1][0]: 5\n",
            "Elemento [1][1]: 6\n",
            "Elemento [1][2]: 7\n",
            "Elemento [1][3]: 8\n",
            "Elemento [2][0]: 9\n",
            "Elemento [2][1]: 10\n",
            "Elemento [2][2]: 11\n",
            "Elemento [2][3]: 12\n",
            "Elemento [3][0]: 13\n",
            "Elemento [3][1]: 14\n",
            "Elemento [3][2]: 15\n",
            "Elemento [3][3]: 16\n",
            "Soma da diadonal secundária: 34\n"
          ]
        }
      ],
      "source": [
        "#11. Crie uma matriz 4x4 com valores fornecidos pelo usuário. Exiba a soma dos elementos da diagonal secundária.\n",
        "matriz = []\n",
        "print(\"Digite os valores da matriz 4x4:\")\n",
        "for i in range(4):\n",
        "    linha = []\n",
        "    for j in range(4):\n",
        "        val = int(input(f\"Elemento [{i}][{j}]: \"))\n",
        "        linha.append(val)\n",
        "    matriz.append(linha)\n",
        "soma_diagonal_secundaria = 0\n",
        "for i in range(4):\n",
        "    soma_diagonal_secundaria += matriz[i][3 - i]\n",
        "print(\"Soma da diadonal secundária:\", soma_diagonal_secundaria)"
      ]
    },
    {
      "cell_type": "code",
      "execution_count": null,
      "metadata": {
        "colab": {
          "base_uri": "https://localhost:8080/"
        },
        "id": "AKkka2lDuOym",
        "outputId": "70e00b28-4396-4775-822f-e4fb4bad772b"
      },
      "outputs": [
        {
          "name": "stdout",
          "output_type": "stream",
          "text": [
            "Matriz 5x5:\n",
            "[13, 51, 22, 35, 90]\n",
            "[27, 60, 66, 29, 24]\n",
            "[37, 61, 87, 65, 47]\n",
            "[28, 82, 18, 55, 91]\n",
            "[68, 86, 91, 56, 84]\n",
            "Medias de cada linha: [42.2, 41.2, 59.4, 54.8, 77.0]\n"
          ]
        }
      ],
      "source": [
        "\n",
        "#12. Gere uma matriz 5x5 com números aleatórios entre 1 e 99. Em seguida, calcule a média dos elementos de cada linha e armazene os resultados em uma nova lista.\n",
        "import random\n",
        "matriz = [[random.randint(1, 99) for _ in range(5)] for _ in range(5)]\n",
        "print(\"Matriz 5x5:\")\n",
        "for linha in matriz:\n",
        "    print(linha)\n",
        "medias = []\n",
        "for linha in matriz:\n",
        "    media = sum(linha) / len(linha)\n",
        "    medias.append(media)\n",
        "print(\"Medias de cada linha:\", medias)\n"
      ]
    },
    {
      "cell_type": "code",
      "execution_count": null,
      "metadata": {
        "colab": {
          "background_save": true,
          "base_uri": "https://localhost:8080/"
        },
        "id": "1urkG4QwaFol",
        "outputId": "e8708a52-3acc-4a3e-a5ca-e9b9ddea4b83"
      },
      "outputs": [
        {
          "output_type": "stream",
          "name": "stdout",
          "text": [
            "Digite os valores da matriz 3x3:\n"
          ]
        }
      ],
      "source": [
        "#13. Solicite uma matriz 3x3 preenchida pelo usuário. Verifique se ela é uma matriz identidade.\n",
        "matriz = []\n",
        "print(\"Digite os valores da matriz 3x3:\")\n",
        "for i in range(3):\n",
        "  linha = []\n",
        "  for j in range(3):\n",
        "      val = int(input(f\"Elemento [{i}] [{j}]: \"))\n",
        "      linha.append(val)\n",
        "  matriz.append(linha)\n",
        "eh_identidade = True\n",
        "for i in range(3):\n",
        "    for j in range(3):\n",
        "        if i == j and matriz[i][j] != 1:\n",
        "           eh_identidade = False\n",
        "if eh_identidade:\n",
        "    print(\"A mattriz é identidade.\")\n",
        "else:\n",
        "    print(\"Amatriz não é identidade.\")"
      ]
    },
    {
      "cell_type": "code",
      "execution_count": null,
      "metadata": {
        "id": "9W4BiWF6gwj5"
      },
      "outputs": [],
      "source": [
        "\n",
        "#14. Faça um programa que leia uma matriz 3x3 e verifique se ela é simétrica (igual à sua transposta).\n",
        "matriz = []\n",
        "print(\"Digite os valoresa da matriz 3x3:\")\n",
        "for i in range(3):\n",
        "    linha = []\n",
        "    for j in range(3)\n",
        "        val = int(input(f\"Elemento [{i}][{j}]: \"))\n",
        "        linha.append(val)\n",
        "    matriz.append(linha)\n",
        "eh_identidade = True\n",
        "for i in range(3):\n",
        "    for j in range(3):\n",
        "        if matriz[i][j] != matriz[j][i]:\n",
        "            eh_identidade = False\n",
        "            break\n",
        "    if eh_identidade:\n",
        "        print(\"A matriz é simetrica.\")\n",
        "    else:\n",
        "        print(\"A matriz não é simetrica.\")"
      ]
    },
    {
      "cell_type": "code",
      "execution_count": null,
      "metadata": {
        "id": "v_v-Sel3j_04"
      },
      "outputs": [],
      "source": [
        "#15. Crie uma matriz 5x3 onde cada elemento é igual ao produto de sua linha pelo valor da coluna. Exiba a matriz completa.\n",
        "matriz = []\n",
        "for i in range(5):\n",
        "    linha = []\n",
        "    for j in range(3):\n",
        "        linha.append(i * j)\n",
        "    matriz.append(linha)\n",
        "print(\"Matriz 5x3 (elemento = linha * coluna):\")\n",
        "for linha in matriz:\n",
        "    print(linha)"
      ]
    },
    {
      "cell_type": "code",
      "execution_count": null,
      "metadata": {
        "id": "gSlUcpGjlCo8"
      },
      "outputs": [],
      "source": [
        "\n",
        "#16. Crie uma matriz 4x4 com números fornecidos pelo usuário. Encontre o menor valor de cada coluna e armazene em uma lista separada.]\n",
        "matriz = []\n",
        "print(\"Digite os números para preencher a matriz 4x4:\")\n",
        "for i in range(4):\n",
        "    linha = []\n",
        "    for j in range(4):\n",
        "        numero = int(input(f\"Elemento [{i}][{j}]:\"))\n",
        "        linha.append(numero)\n",
        "    matriz.append(linha)\n",
        "    print(\"Matriz 4x4:\")\n",
        "    for linha in matriz:\n",
        "        print(linha)\n",
        "    menores_colunas = []\n",
        "    for j in  range(4):\n",
        "        menor = matriz[o][j]\n",
        "        for i in range(1, 4):\n",
        "            if matriz[i][j] < menor:\n",
        "                menor = matriz[i][j]\n",
        "        menores_colunas.append(menor)\n",
        "print(\"menor valor de cada coluna:\")\n",
        "print(menores_colunas)\n"
      ]
    },
    {
      "cell_type": "code",
      "execution_count": null,
      "metadata": {
        "id": "WCyrmShqoYv0"
      },
      "outputs": [],
      "source": [
        "#17. Dada uma matriz 3x3 com valores reais, calcule o determinante (sem usar bibliotecas externas).\n",
        "matriz = []\n",
        "print(\"Digite os valores da matriz 3x3 (valores reais):\")\n",
        "for i in range(3):\n",
        "    linha = []\n",
        "    for j in range(3):\n",
        "        valor = float(input(f\"Elemento [{i}][{j}]: \"))\n",
        "        linha.append(valor)\n",
        "    matriz.append(valor)\n"
      ]
    },
    {
      "cell_type": "code",
      "execution_count": null,
      "metadata": {
        "id": "h_wWB9iOph46"
      },
      "outputs": [],
      "source": [
        "#18. Faça um programa que leia duas matrizes 3x3 e calcule a matriz soma e a matriz diferença.\n",
        "matriz1 = []\n",
        "print(\"Digite os valores da matriz A (3x3):\")\n",
        "for i in range(3):\n",
        "    linha =  []\n",
        "    for j in range(3):\n",
        "        valor = float(input(f\"Elemento [{i}][{j}]: \"))\n",
        "        linha.append(valor)\n",
        "    matriz1.append(linha)\n",
        "\n",
        "matriz2 = []\n",
        "print(\"Digite os valores da matriz Bn(3x3):\")\n",
        "for i in range(3):\n",
        "    linha = []\n",
        "    for j in range(3):\n",
        "        valor = float(input(f\"Elemento [{i}][{j}]: \"))\n",
        "        linha.append(valor)\n",
        "    matriz2.append(linha)\n",
        "soma = []\n",
        "diferença = []\n",
        "for i in range(3):\n",
        "    soma.append([])\n",
        "    diferença.append([])\n",
        "    for j in range(3):\n",
        "        soma[i].append(matriz1[i][j] + matriz2[i][j])\n",
        "        diferença[i].append(matriz1[i][j] - matriz2[i][j])\n",
        "\n",
        "print(\"Matriz Soma:\")\n",
        "for linha in soma:\n",
        "    print(linha)\n",
        "\n",
        "print(\"Matriz Diferença:\")\n",
        "for linha in diferença:\n",
        "    print(linha)\n",
        "\n",
        "\n"
      ]
    },
    {
      "cell_type": "code",
      "execution_count": null,
      "metadata": {
        "id": "Upgf7u9nuAeJ"
      },
      "outputs": [],
      "source": [
        "\n",
        "#19. Solicite dois conjuntos de 10 elementos fornecidos pelo usuário. Mostre a interseção, união e diferença (A - B e B - A).\n",
        "print(\"Digite 10 elementos do conjunto A:\")\n",
        "A = set()\n",
        "while len(a) < 10:\n",
        "    v = input()\n",
        "    A.add(v)\n",
        "print(\"Digite 10 elementos do conjunto B:\")\n",
        "B = set()\n",
        "while len(B) < 10:\n",
        "    v = input()\n",
        "    B.add(v)\n",
        "\n",
        "print(A & B)\n",
        "print(A | B)\n",
        "print(A - B)\n",
        "print(B - A)\n"
      ]
    },
    {
      "cell_type": "code",
      "execution_count": null,
      "metadata": {
        "id": "FNC-Pz3rvgFW"
      },
      "outputs": [],
      "source": [
        "from __future__ import all_feature_names\n",
        "#20. Crie um conjunto com todas as letras usadas em uma frase digitada pelo usuário, escluindo espaços e\n",
        "frase = input(\"Digite uma frase: \")\n",
        "conjunto = set()\n",
        "alfabeto = \"abcdefghijklmnopqrstuwxyzABCDEFGHIJKLMNOPQRSTUWXYZ\"\n",
        "\n",
        "for letra in frase:\n",
        "    if letra in alfabeto:\n",
        "        conjunto.add(letra)\n",
        "\n",
        "print(conjunto)\n"
      ]
    },
    {
      "cell_type": "code",
      "execution_count": null,
      "metadata": {
        "id": "sQ4RfMNuxxMB"
      },
      "outputs": [],
      "source": [
        "#21. Escreva um programa que armazene em um conjunto todos os números entre 1 e 100 que não são múltiplos de 2 nem de 3.\n",
        "numeros = set()\n",
        "for num in range(1, 101):\n",
        "    if num % 2 != 0 and num % 3 != 0 :\n",
        "        numeros.add(num)\n",
        "print(\"Numeros entre 1 e 100 que não são mútiplos de 2 nem de 3:\")\n",
        "print(sorted(numeros))"
      ]
    },
    {
      "cell_type": "code",
      "execution_count": null,
      "metadata": {
        "id": "4A9lM6iK0iE0"
      },
      "outputs": [],
      "source": [
        "\n",
        "#22. Solicite ao usuário que digite 10 palavras. Armazene em um conjunto todas as palavras distintas com mais de 5 letras.\n",
        "palavras = set()\n",
        "for i in range(10):\n",
        "    palavra = input(f\"Digite a {i+j}^a palavra: \")\n",
        "    if len(palavra) > 5:\n",
        "        palavra.add(palavra)\n",
        "print(\"Palavra distintas com mais de 5 letras:\")\n",
        "print(palavras)"
      ]
    },
    {
      "cell_type": "code",
      "execution_count": null,
      "metadata": {
        "id": "QbVXp6M81j_B"
      },
      "outputs": [],
      "source": [
        "#23. Leia dois conjuntos de inteiros. Verifique se um é subconjunto do outro.\n",
        "conjunto1 = tuple(map(int, input(\"Digite os elementos do primeiro conjunto separadoss por espaço: \").split))\n",
        "conjunto2 = tuple(map(int, input(\"Digite os elementos do segundo conjunto separados por espaço:\").split))\n",
        "\n",
        "\n",
        "def tupla_para_conjunto(tupla):\n",
        "    return {item: True for item in tupla}\n",
        "dicionario1 = tupla_para_conjunto(conjunto1)\n",
        "dicionario1 = tupla_para_conjunto(conjunto2)\n",
        "\n",
        "def eh_subconjunto(dicionario_a, dicionario_b):\n",
        "    for chave in dicionario_a:\n",
        "        if chave not in dicionario_b:\n",
        "            return False\n",
        "        return True\n",
        "\n",
        "if eh_subconjunto(dicionario1, dicionario_a):\n",
        "    print(\"O primeiro conjunto é subconjunto do segundo.\")\n",
        "elif eh_subconjunto(dicionario2, dicionario1):\n",
        "    print(\"O segundo conjunto é subconjunto do primeiro.\")\n",
        "else:\n",
        "    print(\"Nunhum dos conjuntos é subcojunto do outro.\")\n",
        "\n",
        "\n"
      ]
    },
    {
      "cell_type": "code",
      "execution_count": null,
      "metadata": {
        "id": "evy6kDqP57ew"
      },
      "outputs": [],
      "source": [
        "#24. Dado um conjunto de números inteiros, crie um novo conjunto com um novo cojunto com apenas os quadrados perfeitos encontrados\n",
        "import math\n",
        "\n",
        "numeros = set(map(int, input().split()))\n",
        "quadrados = {n for n in numeros if n >= 0 and math.isqrt(n)** 2 == n}\n",
        "\n",
        "print(quadrados)\n",
        "\n"
      ]
    },
    {
      "cell_type": "code",
      "execution_count": null,
      "metadata": {
        "id": "iulIWMwE7cEV"
      },
      "outputs": [],
      "source": [
        "#25. Crie um dicionário que armazene o nome e o salário de 5 funcionários. Calcule o reajuste de 10% para salários inferiores a R$ 2.000 e atualize o dicionário.\n",
        "Funcionarios = {}\n",
        "\n",
        "for _ in range(5):\n",
        "    nome = input(\"Nome do funcionario: \")\n",
        "    salario = float(input(\"Salario: \"))\n",
        "    funcionarios[nome] = salario\n",
        "\n",
        "for nome, salario in funcionarios.items():\n",
        "    if salario < 2000:\n",
        "        funcionarios[nome] = salario * 1.10\n",
        "\n",
        "print(\"\\nSalarios atualizaods:\")\n",
        "for nome, salario in funcionarios.items():\n",
        "    print(f\"{nome}: R$ {salario:.2f}\")\n"
      ]
    },
    {
      "cell_type": "code",
      "execution_count": null,
      "metadata": {
        "id": "srdG6o9f9hHv"
      },
      "outputs": [],
      "source": [
        "\n",
        "#26. Faça um programa que armazene em um dicionário o nome de 5 alunos e uma lista com suas 3 notas. Depois, exiba o nome e a média de cada\n",
        "alunos = {}\n",
        "\n",
        "for _ in range(5):\n",
        "    nome = input(\"Nome do aluno: \")\n",
        "    n1 = float(input(\"Nota 1: \"))\n",
        "    n2 = float(input(\"Nota 2: \"))\n",
        "    n3 = float(input(\"Nota 3: \"))\n",
        "    alunos[nome] = (n1, n2, n3)\n",
        "\n",
        "for nome, notas in alunos.items():\n",
        "    media = sum(notas) / 3\n",
        "    print(f\"{nome}: {media:.2f}\")\n",
        "\n",
        "\n",
        "\n"
      ]
    },
    {
      "cell_type": "code",
      "execution_count": null,
      "metadata": {
        "id": "yWIjfnLN_J4I"
      },
      "outputs": [],
      "source": [
        "\n",
        "#27. Crie um dicionário que armazene palavras e seus sinônimos. Depois, permita que o usuário digite uma palavra e veja seus sinônimos (se existirem).\n",
        "sinonimos = {\"casa\": [\"lar\", \"residência\"], \"carro\": [\"automóvel\", \"veículo\"], \"feliz\": [\"contente\", \"alegre\"]}\n",
        "p = input(\"Palavra: \").lower()\n",
        "print(sinonimos.get(p, [\"Palavra não encontrada\"]))\n",
        "\n",
        "\n",
        "\n",
        "\n"
      ]
    },
    {
      "cell_type": "code",
      "execution_count": null,
      "metadata": {
        "id": "rqRTBHcXAZIO"
      },
      "outputs": [],
      "source": [
        "#28. Solicite ao usuário 10 palavras e armazene em um dicionário onde a chave é a primeira letra e o valor é uma lista de palavras que começam com essa letra.\n",
        "palavras_por_palavras = {}\n",
        "for i in range(10):\n",
        "    palavraa = input(f\"Digite a {i+1}^a palavra: \").lower()\n",
        "    primeira_letra = palavra[0]\n",
        "    if primeira_letra not in palavras_por_letra:\n",
        "       palavras_por_letra[primeira_letra] = []\n",
        "    palavras_por_letra[primeira_letra].append(palavra)\n",
        "print(\"Palavras agrupadas por primeira letra:\")\n",
        "for letra, lista in palavra_por_letra.items():\n",
        "    print(f\"{letra}: {lista}\")\n",
        "\n"
      ]
    },
    {
      "cell_type": "code",
      "execution_count": null,
      "metadata": {
        "id": "q5Xq4cjxEUY9"
      },
      "outputs": [],
      "source": [
        "\n",
        "#29.  Crie um dicionario onde as chaves são nomes de produtos e os valores são listas com preços praticado\n",
        "produtos = {}\n",
        "\n",
        "\n",
        "for _ in range(5):\n",
        "    nome = input(\"Nome do produto:\" )\n",
        "    preço = []\n",
        "    for i in range(1, 4):\n",
        "        preço = float(input(f\"Peço na loja {i}: \"))\n",
        "        preços.append(preço)\n",
        "    produtos[nome] = preço\n",
        "\n",
        "    produto_maior_variação = None\n",
        "    maior_variação = -1\n",
        "\n",
        "    for produto, preços in produtos.items():\n",
        "        variaçao = max(preços)- min(preços)\n",
        "        if variação > maior_variação:\n",
        "            maior_variação = variação\n",
        "            produto_maior_variação = produto\n",
        "\n",
        "print(f\"\\nProduto com maior variaçaõ de preço: {produto_maior_variação}\")\n",
        "print(f\"Variação: R$ {maior_variação:.2f}\")"
      ]
    },
    {
      "cell_type": "code",
      "execution_count": null,
      "metadata": {
        "id": "48kHk5SuH-v6"
      },
      "outputs": [],
      "source": [
        "#30. Implemente um programa que leia uma frase e armazene em um dicionário o número de ocorrências de cada palavra (ignorando letras maiúsculas/minúsculas).\n",
        "frase = input(\"Digite uma frase: \").lower()\n",
        "\n",
        "palavras = frase.split()\n",
        "\n",
        "contagem = {}\n",
        "\n",
        "for palavra in palavras:\n",
        "    if palavra in contagem:\n",
        "        contagem[palavra] += 1\n",
        "    else:\n",
        "        contagem[palavra] = 1\n",
        "print(contagem)"
      ]
    },
    {
      "cell_type": "markdown",
      "metadata": {
        "id": "7zBA4tc-bGcb"
      },
      "source": []
    },
    {
      "cell_type": "markdown",
      "metadata": {
        "id": "eFT2Ki6dRlOY"
      },
      "source": [
        "#\n"
      ]
    }
  ],
  "metadata": {
    "colab": {
      "provenance": [],
      "authorship_tag": "ABX9TyNTezsrQdOveGOKSVQ8AqOD",
      "include_colab_link": true
    },
    "kernelspec": {
      "display_name": "Python 3",
      "name": "python3"
    },
    "language_info": {
      "name": "python"
    }
  },
  "nbformat": 4,
  "nbformat_minor": 0
}